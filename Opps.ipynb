{
  "nbformat": 4,
  "nbformat_minor": 0,
  "metadata": {
    "colab": {
      "provenance": []
    },
    "kernelspec": {
      "name": "python3",
      "display_name": "Python 3"
    },
    "language_info": {
      "name": "python"
    }
  },
  "cells": [
    {
      "cell_type": "code",
      "execution_count": null,
      "metadata": {
        "id": "Ro0i0af3ttZh"
      },
      "outputs": [],
      "source": []
    },
    {
      "cell_type": "code",
      "source": [
        "#1. What are the five key concepts of Object-Oriented Programming (OOP)?\n"
      ],
      "metadata": {
        "id": "l37QjKa0N7do"
      },
      "execution_count": null,
      "outputs": []
    },
    {
      "cell_type": "markdown",
      "source": [],
      "metadata": {
        "id": "2M1BTrEgAaJq"
      }
    },
    {
      "cell_type": "markdown",
      "source": [
        "The five key concepts of Object-Oriented Programming (OOP) are:\n",
        "\n",
        "Encapsulation: This principle involves bundling the data (attributes) and methods (functions) that operate on the data into a single unit, known as a class. It restricts direct access to some of the object's components, which helps to protect the object's integrity.\n",
        "\n",
        "Abstraction: Abstraction focuses on hiding the complex reality while exposing only the necessary parts. It allows programmers to define interfaces and abstract classes, enabling the creation of complex systems while reducing complexity.\n",
        "\n",
        "Inheritance: This concept allows a new class (subclass or derived class) to inherit properties and behaviors (methods) from an existing class (superclass or base class). It promotes code reusability and establishes a hierarchical relationship between classes.\n",
        "\n",
        "Polymorphism: Polymorphism enables objects to be treated as instances of their parent class, even if they are actually instances of derived classes. This allows for methods to be defined in multiple forms, supporting method overriding and overloading.\n",
        "\n",
        "Composition: Although sometimes considered part of encapsulation, composition is the principle of building complex types by combining objects (components). It emphasizes creating relationships between objects, allowing for greater flexibility and reusability.\n",
        "\n",
        "These concepts work together to create modular, maintainable, and scalable code in OOP."
      ],
      "metadata": {
        "id": "A4-e_0N3N8_X"
      }
    },
    {
      "cell_type": "code",
      "source": [
        "#2. Write a Python class for a `Car` with attributes for `make`, `model`, and `year`. Include a method to display\n",
        "the car's information."
      ],
      "metadata": {
        "id": "wv1p52pKOFK2"
      },
      "execution_count": null,
      "outputs": []
    },
    {
      "cell_type": "markdown",
      "source": [
        "class Car:\n",
        "    def __init__(self, make, model, year):\n",
        "        self.make = make\n",
        "        self.model = model\n",
        "        self.year = year\n",
        "\n",
        "    def display_info(self):\n",
        "        print(f\"Car Information: {self.year} {self.make} {self.model}\")\n",
        "\n",
        "# Example usage:\n",
        "my_car = Car(\"Toyota\", \"Camry\", 2020)\n",
        "my_car.display_info()"
      ],
      "metadata": {
        "id": "Ff_OimVGOIVr"
      }
    },
    {
      "cell_type": "code",
      "source": [
        "#3. Explain the difference between instance methods and class methods. Provide an example of each."
      ],
      "metadata": {
        "id": "S_vDKXdDOQnf"
      },
      "execution_count": null,
      "outputs": []
    },
    {
      "cell_type": "markdown",
      "source": [
        "In Python, instance methods and class methods serve different purposes and have different ways of accessing data.\n",
        "\n",
        "Instance Methods\n",
        "Definition: Instance methods operate on instances of a class. They take self as the first parameter, which refers to the specific instance of the class.\n",
        "Access: Instance methods can access and modify instance attributes.\n",
        "\n",
        "Class Methods\n",
        "Definition: Class methods operate on the class itself rather than on instances. They take cls as the first parameter, which refers to the class.\n",
        "Access: Class methods can access class attributes and methods, but not instance attributes unless an instance is created inside the method.\n",
        "Example of a Class Method:\n",
        "\n",
        "Example of a Class Method:\n",
        "class Dog:\n",
        "    species = \"Canis lupus familiaris\"  # Class attribute\n",
        "\n",
        "    @classmethod\n",
        "    def get_species(cls):\n",
        "        return cls.species\n",
        "\n",
        "# Usage\n",
        "print(Dog.get_species())  # Output: Canis lupus familiaris\n",
        "\n",
        "Example of an Instance Method:\n",
        "\n",
        "class Dog:\n",
        "    def __init__(self, name):\n",
        "        self.name = name\n",
        "\n",
        "    def bark(self):\n",
        "        print(f\"{self.name} says woof!\")\n",
        "\n",
        "# Usage\n",
        "my_dog = Dog(\"Buddy\")\n",
        "my_dog.bark()  # Output: Buddy says woof!"
      ],
      "metadata": {
        "id": "qETOngeUOVDJ"
      }
    },
    {
      "cell_type": "code",
      "source": [
        "#4. How does Python implement method overloading? Give an example.\n"
      ],
      "metadata": {
        "id": "Q60y2odzOvR1"
      },
      "execution_count": null,
      "outputs": []
    },
    {
      "cell_type": "markdown",
      "source": [
        "Python does not support method overloading in the traditional sense (like in languages such as Java or C++), where you can define multiple methods with the same name but different parameters. Instead, Python allows only one method with a given name in a class. However, you can achieve similar functionality using default arguments or variable-length arguments.\n",
        "\n",
        "Example Using Default Arguments\n",
        "You can define a method that takes a variable number of arguments by providing default values:\n",
        "class MathOperations:\n",
        "    def add(self, a, b=0):\n",
        "        return a + b\n",
        "\n",
        "# Usage\n",
        "math_op = MathOperations()\n",
        "print(math_op.add(5, 3))  # Output: 8\n",
        "print(math_op.add(5))     # Output: 5 (uses default value for b)\n",
        "Example Using Variable-Length Arguments\n",
        "You can also use *args to allow for a variable number of positional arguments:\n",
        "\n",
        "class MathOperations:\n",
        "    def add(self, *args):\n",
        "        return sum(args)\n",
        "\n",
        "# Usage\n",
        "math_op = MathOperations()\n",
        "print(math_op.add(1, 2, 3))        # Output: 6\n",
        "print(math_op.add(4, 5, 6, 7, 8))  # Output: 30"
      ],
      "metadata": {
        "id": "yFizIZBeO5aZ"
      }
    },
    {
      "cell_type": "code",
      "source": [
        "#5. What are the three types of access modifiers in Python? How are they denoted?\n"
      ],
      "metadata": {
        "id": "o1vGJ7QUPF63"
      },
      "execution_count": null,
      "outputs": []
    },
    {
      "cell_type": "markdown",
      "source": [
        "In Python, there are three types of access modifiers that control the visibility and accessibility of class attributes and methods. They are:\n",
        "\n",
        "Public:\n",
        "\n",
        "Denotation: No special prefix.\n",
        "Accessibility: Attributes and methods are accessible from outside the class.\n",
        "Example\n",
        "class MyClass:\n",
        "    def __init__(self):\n",
        "        self.public_attribute = \"I am public\"\n",
        "\n",
        "obj = MyClass()\n",
        "print(obj.public_attribute)  # Accessible\n",
        "\n",
        "Protected:\n",
        "\n",
        "Denotation: A single underscore prefix (_).\n",
        "Accessibility: Intended for internal use within the class and its subclasses. They can still be accessed from outside the class, but it’s discouraged.\n",
        "\n",
        "class MyClass:\n",
        "    def __init__(self):\n",
        "        self._protected_attribute = \"I am protected\"\n",
        "\n",
        "obj = MyClass()\n",
        "print(obj._protected_attribute)  # Accessible but discouraged\n",
        "\n",
        "Private:\n",
        "\n",
        "Denotation: A double underscore prefix (__).\n",
        "Accessibility: Attributes and methods are not accessible from outside the class. They are name-mangled to prevent accidental access.\n",
        "\n",
        "class MyClass:\n",
        "    def __init__(self):\n",
        "        self.__private_attribute = \"I am private\"\n",
        "\n",
        "    def get_private_attribute(self):\n",
        "        return self.__private_attribute\n",
        "\n",
        "obj = MyClass()\n",
        "# print(obj.__private_attribute)  # Raises an AttributeError\n",
        "print(obj.get_private_attribute())  # Accessible through a method\n"
      ],
      "metadata": {
        "id": "PEE9pX7YPMHt"
      }
    },
    {
      "cell_type": "code",
      "source": [
        "#6. Describe the five types of inheritance in Python. Provide a simple example of multiple inheritance."
      ],
      "metadata": {
        "id": "Vi8WiiyVPhqb"
      },
      "execution_count": null,
      "outputs": []
    },
    {
      "cell_type": "markdown",
      "source": [
        "In Python, inheritance allows a class (derived or child class) to inherit attributes and methods from another class (base or parent class). There are five main types of inheritance:\n",
        "\n",
        "Single Inheritance:\n",
        "\n",
        "A child class inherits from one parent class.\n",
        "Example\n",
        "class Parent:\n",
        "    def greet(self):\n",
        "        print(\"Hello from the Parent class!\")\n",
        "\n",
        "class Child(Parent):\n",
        "    pass\n",
        "\n",
        "c = Child()\n",
        "c.greet()  # Output: Hello from the Parent class!\n",
        "\n",
        "Multiple Inheritance:\n",
        "\n",
        "A child class inherits from multiple parent classes.\n",
        "\n",
        "class Parent1:\n",
        "    def greet(self):\n",
        "        print(\"Hello from Parent1!\")\n",
        "\n",
        "class Parent2:\n",
        "    def greet(self):\n",
        "        print(\"Hello from Parent2!\")\n",
        "\n",
        "class Child(Parent1, Parent2):\n",
        "    pass\n",
        "\n",
        "c = Child()\n",
        "c.greet()  # Output: Hello from Parent1!\n",
        "\n",
        "Multilevel Inheritance:\n",
        "\n",
        "A child class inherits from a parent class, which is also a child of another class.\n",
        "class Grandparent:\n",
        "    def greet(self):\n",
        "        print(\"Hello from the Grandparent class!\")\n",
        "\n",
        "class Parent(Grandparent):\n",
        "    pass\n",
        "\n",
        "class Child(Parent):\n",
        "    pass\n",
        "\n",
        "c = Child()\n",
        "c.greet()  # Output: Hello from the Grandparent class!\n",
        "\n",
        "Hierarchical Inheritance:\n",
        "\n",
        "Multiple child classes inherit from a single parent class.\n",
        "class Parent:\n",
        "    def greet(self):\n",
        "        print(\"Hello from the Parent class!\")\n",
        "\n",
        "class Child1(Parent):\n",
        "    pass\n",
        "\n",
        "class Child2(Parent):\n",
        "    pass\n",
        "\n",
        "c1 = Child1()\n",
        "c2 = Child2()\n",
        "c1.greet()  # Output: Hello from the Parent class!\n",
        "c2.greet()  # Output: Hello from the Parent class!\n",
        "\n",
        "Hybrid Inheritance:\n",
        "\n",
        "A combination of two or more types of inheritance.\n",
        "class Parent:\n",
        "    def greet(self):\n",
        "        print(\"Hello from the Parent class!\")\n",
        "\n",
        "class Parent1:\n",
        "    def greet(self):\n",
        "        print(\"Hello from Parent1!\")\n",
        "\n",
        "class Child(Parent, Parent1):\n",
        "    pass\n",
        "\n",
        "c = Child()\n",
        "c.greet()  # Output: Hello from the Parent class!"
      ],
      "metadata": {
        "id": "RreE7Q5mPi2i"
      }
    },
    {
      "cell_type": "code",
      "source": [
        "#7. What is the Method Resolution Order (MRO) in Python? How can you retrieve it programmatically?\n"
      ],
      "metadata": {
        "id": "7UL0lFNRQCqt"
      },
      "execution_count": null,
      "outputs": []
    },
    {
      "cell_type": "markdown",
      "source": [
        "The Method Resolution Order (MRO) in Python is the order in which classes are searched when executing a method. It determines the order in which base classes are looked up for methods and attributes when they are called on an instance of a derived class, especially in the context of multiple inheritance.\n",
        "\n",
        "Python uses the C3 linearization algorithm to calculate the MRO. This ensures that:\n",
        "\n",
        "A class appears before its parents.\n",
        "If a class appears in the hierarchy multiple times, it appears only once.\n",
        "The MRO is consistent across the hierarchy.\n",
        "Retrieving the MRO Programmatically\n",
        "You can retrieve the MRO of a class using the mro() method or the __mro__ attribute.\n",
        "Example:\n",
        "class A:\n",
        "    pass\n",
        "\n",
        "class B(A):\n",
        "    pass\n",
        "\n",
        "class C(A):\n",
        "    pass\n",
        "\n",
        "class D(B, C):\n",
        "    pass\n",
        "\n",
        "# Using mro() method\n",
        "print(D.mro())\n",
        "\n",
        "# Using __mro__ attribute\n",
        "print(D.__mro__)"
      ],
      "metadata": {
        "id": "T6dvA0frWrTE"
      }
    },
    {
      "cell_type": "code",
      "source": [],
      "metadata": {
        "id": "eoKLqgaUOd-o"
      },
      "execution_count": null,
      "outputs": []
    },
    {
      "cell_type": "code",
      "source": [
        "class A:\n",
        "    pass\n",
        "\n",
        "class B(A):\n",
        "    pass\n",
        "\n",
        "class C(A):\n",
        "    pass\n",
        "\n",
        "class D(B, C):\n",
        "    pass\n",
        "\n",
        "# Using mro() method\n",
        "print(D.mro())\n",
        "\n",
        "# Using __mro__ attribute\n",
        "print(D.__mro__)\n"
      ],
      "metadata": {
        "colab": {
          "base_uri": "https://localhost:8080/"
        },
        "id": "uO0MM3tPWyqU",
        "outputId": "3e193e6b-e66f-4bd9-be58-db694d14f1bd"
      },
      "execution_count": 1,
      "outputs": [
        {
          "output_type": "stream",
          "name": "stdout",
          "text": [
            "[<class '__main__.D'>, <class '__main__.B'>, <class '__main__.C'>, <class '__main__.A'>, <class 'object'>]\n",
            "(<class '__main__.D'>, <class '__main__.B'>, <class '__main__.C'>, <class '__main__.A'>, <class 'object'>)\n"
          ]
        }
      ]
    }
  ]
}